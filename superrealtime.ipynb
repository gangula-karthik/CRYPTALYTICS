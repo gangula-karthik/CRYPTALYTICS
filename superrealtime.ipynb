{
 "cells": [
  {
   "cell_type": "code",
   "execution_count": 8,
   "metadata": {},
   "outputs": [
    {
     "name": "stdout",
     "output_type": "stream",
     "text": [
      "Collecting websocket-client\n",
      "  Using cached websocket_client-1.5.1-py3-none-any.whl (55 kB)\n",
      "Installing collected packages: websocket-client\n",
      "Successfully installed websocket-client-1.5.1\n",
      "\n",
      "\u001b[1m[\u001b[0m\u001b[34;49mnotice\u001b[0m\u001b[1;39;49m]\u001b[0m\u001b[39;49m A new release of pip is available: \u001b[0m\u001b[31;49m23.1\u001b[0m\u001b[39;49m -> \u001b[0m\u001b[32;49m23.1.1\u001b[0m\n",
      "\u001b[1m[\u001b[0m\u001b[34;49mnotice\u001b[0m\u001b[1;39;49m]\u001b[0m\u001b[39;49m To update, run: \u001b[0m\u001b[32;49mpip install --upgrade pip\u001b[0m\n",
      "Collecting websocket\n",
      "  Downloading websocket-0.2.1.tar.gz (195 kB)\n",
      "\u001b[2K     \u001b[90m━━━━━━━━━━━━━━━━━━━━━━━━━━━━━━━━━━━━━━━\u001b[0m \u001b[32m195.3/195.3 kB\u001b[0m \u001b[31m8.3 MB/s\u001b[0m eta \u001b[36m0:00:00\u001b[0m\n",
      "\u001b[?25h  Installing build dependencies ... \u001b[?25ldone\n",
      "\u001b[?25h  Getting requirements to build wheel ... \u001b[?25ldone\n",
      "\u001b[?25h  Preparing metadata (pyproject.toml) ... \u001b[?25ldone\n",
      "\u001b[?25hCollecting gevent (from websocket)\n",
      "  Downloading gevent-22.10.2.tar.gz (6.6 MB)\n",
      "\u001b[2K     \u001b[90m━━━━━━━━━━━━━━━━━━━━━━━━━━━━━━━━━━━━━━━━\u001b[0m \u001b[32m6.6/6.6 MB\u001b[0m \u001b[31m53.8 MB/s\u001b[0m eta \u001b[36m0:00:00\u001b[0m00:01\u001b[0m00:01\u001b[0m\n",
      "\u001b[?25h  Installing build dependencies ... \u001b[?25ldone\n",
      "\u001b[?25h  Getting requirements to build wheel ... \u001b[?25ldone\n",
      "\u001b[?25h  Installing backend dependencies ... \u001b[?25ldone\n",
      "\u001b[?25h  Preparing metadata (pyproject.toml) ... \u001b[?25ldone\n",
      "\u001b[?25hCollecting greenlet (from websocket)\n",
      "  Using cached greenlet-2.0.2-cp310-cp310-macosx_13_0_arm64.whl\n",
      "Collecting zope.event (from gevent->websocket)\n",
      "  Downloading zope.event-4.6-py2.py3-none-any.whl (6.8 kB)\n",
      "Collecting zope.interface (from gevent->websocket)\n",
      "  Downloading zope.interface-6.0-cp310-cp310-macosx_11_0_arm64.whl (202 kB)\n",
      "\u001b[2K     \u001b[90m━━━━━━━━━━━━━━━━━━━━━━━━━━━━━━━━━━━━━━\u001b[0m \u001b[32m202.4/202.4 kB\u001b[0m \u001b[31m31.7 MB/s\u001b[0m eta \u001b[36m0:00:00\u001b[0m\n",
      "\u001b[?25hRequirement already satisfied: setuptools in ./myenv/lib/python3.10/site-packages (from gevent->websocket) (65.6.3)\n",
      "Building wheels for collected packages: websocket, gevent\n",
      "  Building wheel for websocket (pyproject.toml) ... \u001b[?25ldone\n",
      "\u001b[?25h  Created wheel for websocket: filename=websocket-0.2.1-py3-none-any.whl size=192113 sha256=05b50523263d6bd474370e05e30ce282863664d7daa1100e7a2f03d8b2e609c1\n",
      "  Stored in directory: /Users/daaa/Library/Caches/pip/wheels/4a/26/a1/27748366e5f1592b3ff2b896a45fe35be66c257b7926bc5b08\n",
      "  Building wheel for gevent (pyproject.toml) ... \u001b[?25ldone\n",
      "\u001b[?25h  Created wheel for gevent: filename=gevent-22.10.2-cp310-cp310-macosx_13_0_arm64.whl size=1782999 sha256=faea672eb0016af2bf63a9961497fb555bc0405b292d34e9b1eb428e5f783c22\n",
      "  Stored in directory: /Users/daaa/Library/Caches/pip/wheels/17/de/c5/51b1e40d3d86a601c822e0cec04bfcdd91e56742b4d51e5408\n",
      "Successfully built websocket gevent\n",
      "Installing collected packages: zope.interface, zope.event, greenlet, gevent, websocket\n",
      "Successfully installed gevent-22.10.2 greenlet-2.0.2 websocket-0.2.1 zope.event-4.6 zope.interface-6.0\n",
      "\n",
      "\u001b[1m[\u001b[0m\u001b[34;49mnotice\u001b[0m\u001b[1;39;49m]\u001b[0m\u001b[39;49m A new release of pip is available: \u001b[0m\u001b[31;49m23.1\u001b[0m\u001b[39;49m -> \u001b[0m\u001b[32;49m23.1.1\u001b[0m\n",
      "\u001b[1m[\u001b[0m\u001b[34;49mnotice\u001b[0m\u001b[1;39;49m]\u001b[0m\u001b[39;49m To update, run: \u001b[0m\u001b[32;49mpip install --upgrade pip\u001b[0m\n"
     ]
    }
   ],
   "source": [
    "!pip install websocket-client\n",
    "!pip install websocket"
   ]
  },
  {
   "cell_type": "code",
   "execution_count": 9,
   "metadata": {},
   "outputs": [
    {
     "ename": "AttributeError",
     "evalue": "module 'websocket' has no attribute 'WebSocketApp'",
     "output_type": "error",
     "traceback": [
      "\u001b[0;31m---------------------------------------------------------------------------\u001b[0m",
      "\u001b[0;31mAttributeError\u001b[0m                            Traceback (most recent call last)",
      "Cell \u001b[0;32mIn[9], line 15\u001b[0m\n\u001b[1;32m     11\u001b[0m     \u001b[39mprint\u001b[39m(data)\n\u001b[1;32m     14\u001b[0m url \u001b[39m=\u001b[39m \u001b[39m\"\u001b[39m\u001b[39mwss://stream.binance.com:9443/ws\u001b[39m\u001b[39m\"\u001b[39m\n\u001b[0;32m---> 15\u001b[0m ws \u001b[39m=\u001b[39m websocket\u001b[39m.\u001b[39;49mWebSocketApp(url, on_open \u001b[39m=\u001b[39m on_open, on_message \u001b[39m=\u001b[39m on_message)\n\u001b[1;32m     16\u001b[0m ws\u001b[39m.\u001b[39mrun_forever()\n",
      "\u001b[0;31mAttributeError\u001b[0m: module 'websocket' has no attribute 'WebSocketApp'"
     ]
    }
   ],
   "source": [
    "import websocket\n",
    "import json\n",
    "\n",
    "def on_open(ws):\n",
    "    print (\"Opened connection\")\n",
    "    subscribe = {\"method\": \"SUBSCRIBE\",\"params\": [\"btcusdt@kline_5m\"],\"id\": 1}\n",
    "    ws.send(json.dumps(subscribe))\n",
    "\n",
    "def on_message (ws, message):\n",
    "    data = json.loads(message)\n",
    "    print(data)\n",
    "\n",
    "\n",
    "url = \"wss://stream.binance.com:9443/ws\"\n",
    "ws = websocket.WebSocketApp(url, on_open = on_open, on_message = on_message)\n",
    "ws.run_forever()"
   ]
  },
  {
   "cell_type": "code",
   "execution_count": null,
   "metadata": {},
   "outputs": [],
   "source": []
  }
 ],
 "metadata": {
  "kernelspec": {
   "display_name": "myenv",
   "language": "python",
   "name": "python3"
  },
  "language_info": {
   "codemirror_mode": {
    "name": "ipython",
    "version": 3
   },
   "file_extension": ".py",
   "mimetype": "text/x-python",
   "name": "python",
   "nbconvert_exporter": "python",
   "pygments_lexer": "ipython3",
   "version": "3.10.9"
  },
  "orig_nbformat": 4
 },
 "nbformat": 4,
 "nbformat_minor": 2
}
