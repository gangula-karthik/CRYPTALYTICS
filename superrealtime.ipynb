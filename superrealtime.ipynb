{
 "cells": [
  {
   "cell_type": "code",
   "execution_count": 8,
   "metadata": {},
   "outputs": [
    {
     "name": "stdout",
     "output_type": "stream",
     "text": [
      "Collecting websocket-client\n",
      "  Using cached websocket_client-1.5.1-py3-none-any.whl (55 kB)\n",
      "Installing collected packages: websocket-client\n",
      "Successfully installed websocket-client-1.5.1\n",
      "\n",
      "\u001b[1m[\u001b[0m\u001b[34;49mnotice\u001b[0m\u001b[1;39;49m]\u001b[0m\u001b[39;49m A new release of pip is available: \u001b[0m\u001b[31;49m23.1\u001b[0m\u001b[39;49m -> \u001b[0m\u001b[32;49m23.1.1\u001b[0m\n",
      "\u001b[1m[\u001b[0m\u001b[34;49mnotice\u001b[0m\u001b[1;39;49m]\u001b[0m\u001b[39;49m To update, run: \u001b[0m\u001b[32;49mpip install --upgrade pip\u001b[0m\n",
      "Collecting websocket\n",
      "  Downloading websocket-0.2.1.tar.gz (195 kB)\n",
      "\u001b[2K     \u001b[90m━━━━━━━━━━━━━━━━━━━━━━━━━━━━━━━━━━━━━━━\u001b[0m \u001b[32m195.3/195.3 kB\u001b[0m \u001b[31m8.3 MB/s\u001b[0m eta \u001b[36m0:00:00\u001b[0m\n",
      "\u001b[?25h  Installing build dependencies ... \u001b[?25ldone\n",
      "\u001b[?25h  Getting requirements to build wheel ... \u001b[?25ldone\n",
      "\u001b[?25h  Preparing metadata (pyproject.toml) ... \u001b[?25ldone\n",
      "\u001b[?25hCollecting gevent (from websocket)\n",
      "  Downloading gevent-22.10.2.tar.gz (6.6 MB)\n",
      "\u001b[2K     \u001b[90m━━━━━━━━━━━━━━━━━━━━━━━━━━━━━━━━━━━━━━━━\u001b[0m \u001b[32m6.6/6.6 MB\u001b[0m \u001b[31m53.8 MB/s\u001b[0m eta \u001b[36m0:00:00\u001b[0m00:01\u001b[0m00:01\u001b[0m\n",
      "\u001b[?25h  Installing build dependencies ... \u001b[?25ldone\n",
      "\u001b[?25h  Getting requirements to build wheel ... \u001b[?25ldone\n",
      "\u001b[?25h  Installing backend dependencies ... \u001b[?25ldone\n",
      "\u001b[?25h  Preparing metadata (pyproject.toml) ... \u001b[?25ldone\n",
      "\u001b[?25hCollecting greenlet (from websocket)\n",
      "  Using cached greenlet-2.0.2-cp310-cp310-macosx_13_0_arm64.whl\n",
      "Collecting zope.event (from gevent->websocket)\n",
      "  Downloading zope.event-4.6-py2.py3-none-any.whl (6.8 kB)\n",
      "Collecting zope.interface (from gevent->websocket)\n",
      "  Downloading zope.interface-6.0-cp310-cp310-macosx_11_0_arm64.whl (202 kB)\n",
      "\u001b[2K     \u001b[90m━━━━━━━━━━━━━━━━━━━━━━━━━━━━━━━━━━━━━━\u001b[0m \u001b[32m202.4/202.4 kB\u001b[0m \u001b[31m31.7 MB/s\u001b[0m eta \u001b[36m0:00:00\u001b[0m\n",
      "\u001b[?25hRequirement already satisfied: setuptools in ./myenv/lib/python3.10/site-packages (from gevent->websocket) (65.6.3)\n",
      "Building wheels for collected packages: websocket, gevent\n",
      "  Building wheel for websocket (pyproject.toml) ... \u001b[?25ldone\n",
      "\u001b[?25h  Created wheel for websocket: filename=websocket-0.2.1-py3-none-any.whl size=192113 sha256=05b50523263d6bd474370e05e30ce282863664d7daa1100e7a2f03d8b2e609c1\n",
      "  Stored in directory: /Users/daaa/Library/Caches/pip/wheels/4a/26/a1/27748366e5f1592b3ff2b896a45fe35be66c257b7926bc5b08\n",
      "  Building wheel for gevent (pyproject.toml) ... \u001b[?25ldone\n",
      "\u001b[?25h  Created wheel for gevent: filename=gevent-22.10.2-cp310-cp310-macosx_13_0_arm64.whl size=1782999 sha256=faea672eb0016af2bf63a9961497fb555bc0405b292d34e9b1eb428e5f783c22\n",
      "  Stored in directory: /Users/daaa/Library/Caches/pip/wheels/17/de/c5/51b1e40d3d86a601c822e0cec04bfcdd91e56742b4d51e5408\n",
      "Successfully built websocket gevent\n",
      "Installing collected packages: zope.interface, zope.event, greenlet, gevent, websocket\n",
      "Successfully installed gevent-22.10.2 greenlet-2.0.2 websocket-0.2.1 zope.event-4.6 zope.interface-6.0\n",
      "\n",
      "\u001b[1m[\u001b[0m\u001b[34;49mnotice\u001b[0m\u001b[1;39;49m]\u001b[0m\u001b[39;49m A new release of pip is available: \u001b[0m\u001b[31;49m23.1\u001b[0m\u001b[39;49m -> \u001b[0m\u001b[32;49m23.1.1\u001b[0m\n",
      "\u001b[1m[\u001b[0m\u001b[34;49mnotice\u001b[0m\u001b[1;39;49m]\u001b[0m\u001b[39;49m To update, run: \u001b[0m\u001b[32;49mpip install --upgrade pip\u001b[0m\n"
     ]
    }
   ],
   "source": [
    "!pip install websocket-client\n",
    "!pip install websocket"
   ]
  },
  {
   "cell_type": "code",
   "execution_count": 3,
   "metadata": {},
   "outputs": [
    {
     "name": "stdout",
     "output_type": "stream",
     "text": [
      "Opened connection\n",
      "{'result': None, 'id': 1}\n",
      "{'e': 'kline', 'E': 1682473191309, 's': 'BTCUSDT', 'k': {'t': 1682472900000, 'T': 1682473199999, 's': 'BTCUSDT', 'i': '5m', 'f': 3094372388, 'L': 3094374809, 'o': '28301.98000000', 'c': '28313.20000000', 'h': '28330.98000000', 'l': '28301.97000000', 'v': '109.42425000', 'n': 2422, 'x': False, 'q': '3098516.22812360', 'V': '51.13064000', 'Q': '1447750.81216120', 'B': '0'}}\n",
      "{'e': 'kline', 'E': 1682473193310, 's': 'BTCUSDT', 'k': {'t': 1682472900000, 'T': 1682473199999, 's': 'BTCUSDT', 'i': '5m', 'f': 3094372388, 'L': 3094374813, 'o': '28301.98000000', 'c': '28313.20000000', 'h': '28330.98000000', 'l': '28301.97000000', 'v': '109.66896000', 'n': 2426, 'x': False, 'q': '3105444.75084830', 'V': '51.33062000', 'Q': '1453412.88589720', 'B': '0'}}\n",
      "{'e': 'kline', 'E': 1682473195572, 's': 'BTCUSDT', 'k': {'t': 1682472900000, 'T': 1682473199999, 's': 'BTCUSDT', 'i': '5m', 'f': 3094372388, 'L': 3094374817, 'o': '28301.98000000', 'c': '28313.19000000', 'h': '28330.98000000', 'l': '28301.97000000', 'v': '109.71872000', 'n': 2430, 'x': False, 'q': '3106853.61528030', 'V': '51.34038000', 'Q': '1453689.22272920', 'B': '0'}}\n",
      "{'e': 'kline', 'E': 1682473197703, 's': 'BTCUSDT', 'k': {'t': 1682472900000, 'T': 1682473199999, 's': 'BTCUSDT', 'i': '5m', 'f': 3094372388, 'L': 3094374822, 'o': '28301.98000000', 'c': '28313.19000000', 'h': '28330.98000000', 'l': '28301.97000000', 'v': '110.52296000', 'n': 2435, 'x': False, 'q': '3129624.22158180', 'V': '51.97797000', 'Q': '1471741.43591720', 'B': '0'}}\n",
      "{'e': 'kline', 'E': 1682473199804, 's': 'BTCUSDT', 'k': {'t': 1682472900000, 'T': 1682473199999, 's': 'BTCUSDT', 'i': '5m', 'f': 3094372388, 'L': 3094374826, 'o': '28301.98000000', 'c': '28313.19000000', 'h': '28330.98000000', 'l': '28301.97000000', 'v': '110.56972000', 'n': 2439, 'x': False, 'q': '3130948.14661380', 'V': '52.00473000', 'Q': '1472499.09714920', 'B': '0'}}\n",
      "{'e': 'kline', 'E': 1682473200004, 's': 'BTCUSDT', 'k': {'t': 1682472900000, 'T': 1682473199999, 's': 'BTCUSDT', 'i': '5m', 'f': 3094372388, 'L': 3094374835, 'o': '28301.98000000', 'c': '28313.19000000', 'h': '28330.98000000', 'l': '28301.97000000', 'v': '110.58364000', 'n': 2448, 'x': True, 'q': '3131342.26633340', 'V': '52.01621000', 'Q': '1472824.13268520', 'B': '0'}}\n",
      "{'e': 'kline', 'E': 1682473202398, 's': 'BTCUSDT', 'k': {'t': 1682473200000, 'T': 1682473499999, 's': 'BTCUSDT', 'i': '5m', 'f': 3094374836, 'L': 3094374854, 'o': '28313.20000000', 'c': '28313.19000000', 'h': '28313.20000000', 'l': '28313.19000000', 'v': '0.05567000', 'n': 19, 'x': False, 'q': '1576.19543640', 'V': '0.01491000', 'Q': '422.14981200', 'B': '0'}}\n",
      "{'e': 'kline', 'E': 1682473204642, 's': 'BTCUSDT', 'k': {'t': 1682473200000, 'T': 1682473499999, 's': 'BTCUSDT', 'i': '5m', 'f': 3094374836, 'L': 3094374924, 'o': '28313.20000000', 'c': '28310.97000000', 'h': '28313.20000000', 'l': '28310.97000000', 'v': '4.51871000', 'n': 89, 'x': False, 'q': '127937.53325660', 'V': '0.01687000', 'Q': '477.64010500', 'B': '0'}}\n",
      "{'e': 'kline', 'E': 1682473206959, 's': 'BTCUSDT', 'k': {'t': 1682473200000, 'T': 1682473499999, 's': 'BTCUSDT', 'i': '5m', 'f': 3094374836, 'L': 3094374932, 'o': '28313.20000000', 'c': '28310.98000000', 'h': '28313.20000000', 'l': '28310.97000000', 'v': '5.13383000', 'n': 97, 'x': False, 'q': '145352.18307000', 'V': '0.61157000', 'Q': '17314.17991100', 'B': '0'}}\n",
      "{'e': 'kline', 'E': 1682473209075, 's': 'BTCUSDT', 'k': {'t': 1682473200000, 'T': 1682473499999, 's': 'BTCUSDT', 'i': '5m', 'f': 3094374836, 'L': 3094374945, 'o': '28313.20000000', 'c': '28310.98000000', 'h': '28313.20000000', 'l': '28310.97000000', 'v': '7.54035000', 'n': 110, 'x': False, 'q': '213483.10008910', 'V': '0.76104000', 'Q': '21545.82209160', 'B': '0'}}\n",
      "{'e': 'kline', 'E': 1682473211643, 's': 'BTCUSDT', 'k': {'t': 1682473200000, 'T': 1682473499999, 's': 'BTCUSDT', 'i': '5m', 'f': 3094374836, 'L': 3094374949, 'o': '28313.20000000', 'c': '28310.97000000', 'h': '28313.20000000', 'l': '28310.97000000', 'v': '7.58848000', 'n': 114, 'x': False, 'q': '214845.70707520', 'V': '0.76104000', 'Q': '21545.82209160', 'B': '0'}}\n",
      "Error: \n",
      "Error: BinanceWebSocket.on_close() takes 2 positional arguments but 4 were given\n"
     ]
    },
    {
     "ename": "KeyboardInterrupt",
     "evalue": "",
     "output_type": "error",
     "traceback": [
      "\u001b[0;31m---------------------------------------------------------------------------\u001b[0m",
      "\u001b[0;31mKeyboardInterrupt\u001b[0m                         Traceback (most recent call last)",
      "Cell \u001b[0;32mIn[3], line 44\u001b[0m\n\u001b[1;32m     42\u001b[0m url \u001b[39m=\u001b[39m \u001b[39m\"\u001b[39m\u001b[39mwss://stream.binance.com:9443/ws\u001b[39m\u001b[39m\"\u001b[39m\n\u001b[1;32m     43\u001b[0m binance_ws \u001b[39m=\u001b[39m BinanceWebSocket(url)\n\u001b[0;32m---> 44\u001b[0m binance_ws\u001b[39m.\u001b[39;49mstart()\n",
      "Cell \u001b[0;32mIn[3], line 34\u001b[0m, in \u001b[0;36mBinanceWebSocket.start\u001b[0;34m(self)\u001b[0m\n\u001b[1;32m     26\u001b[0m \u001b[39mtry\u001b[39;00m:\n\u001b[1;32m     27\u001b[0m     \u001b[39mself\u001b[39m\u001b[39m.\u001b[39mws \u001b[39m=\u001b[39m websocket\u001b[39m.\u001b[39mWebSocketApp(\n\u001b[1;32m     28\u001b[0m         \u001b[39mself\u001b[39m\u001b[39m.\u001b[39murl,\n\u001b[1;32m     29\u001b[0m         on_open\u001b[39m=\u001b[39m\u001b[39mself\u001b[39m\u001b[39m.\u001b[39mon_open,\n\u001b[0;32m   (...)\u001b[0m\n\u001b[1;32m     32\u001b[0m         on_close\u001b[39m=\u001b[39m\u001b[39mself\u001b[39m\u001b[39m.\u001b[39mon_close,\n\u001b[1;32m     33\u001b[0m     )\n\u001b[0;32m---> 34\u001b[0m     \u001b[39mself\u001b[39;49m\u001b[39m.\u001b[39;49mws\u001b[39m.\u001b[39;49mrun_forever(sslopt\u001b[39m=\u001b[39;49m{\u001b[39m\"\u001b[39;49m\u001b[39mcert_reqs\u001b[39;49m\u001b[39m\"\u001b[39;49m: ssl\u001b[39m.\u001b[39;49mCERT_NONE})\n\u001b[1;32m     35\u001b[0m \u001b[39mexcept\u001b[39;00m \u001b[39mException\u001b[39;00m \u001b[39mas\u001b[39;00m e:\n\u001b[1;32m     36\u001b[0m     \u001b[39mprint\u001b[39m(\u001b[39mf\u001b[39m\u001b[39m\"\u001b[39m\u001b[39mAn exception occurred: \u001b[39m\u001b[39m{\u001b[39;00me\u001b[39m}\u001b[39;00m\u001b[39m\"\u001b[39m)\n",
      "File \u001b[0;32m~/Downloads/HackSingapore23/myenv/lib/python3.10/site-packages/websocket/_app.py:483\u001b[0m, in \u001b[0;36mWebSocketApp.run_forever\u001b[0;34m(self, sockopt, sslopt, ping_interval, ping_timeout, ping_payload, http_proxy_host, http_proxy_port, http_no_proxy, http_proxy_auth, http_proxy_timeout, skip_utf8_validation, host, origin, dispatcher, suppress_origin, proxy_type, reconnect)\u001b[0m\n\u001b[1;32m    480\u001b[0m custom_dispatcher \u001b[39m=\u001b[39m \u001b[39mbool\u001b[39m(dispatcher)\n\u001b[1;32m    481\u001b[0m dispatcher \u001b[39m=\u001b[39m \u001b[39mself\u001b[39m\u001b[39m.\u001b[39mcreate_dispatcher(ping_timeout, dispatcher, parse_url(\u001b[39mself\u001b[39m\u001b[39m.\u001b[39murl)[\u001b[39m3\u001b[39m])\n\u001b[0;32m--> 483\u001b[0m setSock()\n\u001b[1;32m    484\u001b[0m \u001b[39mif\u001b[39;00m \u001b[39mnot\u001b[39;00m custom_dispatcher \u001b[39mand\u001b[39;00m reconnect:\n\u001b[1;32m    485\u001b[0m     \u001b[39mwhile\u001b[39;00m \u001b[39mself\u001b[39m\u001b[39m.\u001b[39mkeep_running:\n",
      "File \u001b[0;32m~/Downloads/HackSingapore23/myenv/lib/python3.10/site-packages/websocket/_app.py:413\u001b[0m, in \u001b[0;36mWebSocketApp.run_forever.<locals>.setSock\u001b[0;34m(reconnecting)\u001b[0m\n\u001b[1;32m    411\u001b[0m     dispatcher\u001b[39m.\u001b[39mread(\u001b[39mself\u001b[39m\u001b[39m.\u001b[39msock\u001b[39m.\u001b[39msock, read, check)\n\u001b[1;32m    412\u001b[0m \u001b[39mexcept\u001b[39;00m (WebSocketConnectionClosedException, \u001b[39mConnectionRefusedError\u001b[39;00m, \u001b[39mKeyboardInterrupt\u001b[39;00m, \u001b[39mSystemExit\u001b[39;00m, \u001b[39mException\u001b[39;00m) \u001b[39mas\u001b[39;00m e:\n\u001b[0;32m--> 413\u001b[0m     handleDisconnect(e, reconnecting)\n",
      "File \u001b[0;32m~/Downloads/HackSingapore23/myenv/lib/python3.10/site-packages/websocket/_app.py:411\u001b[0m, in \u001b[0;36mWebSocketApp.run_forever.<locals>.setSock\u001b[0;34m(reconnecting)\u001b[0m\n\u001b[1;32m    407\u001b[0m         \u001b[39mself\u001b[39m\u001b[39m.\u001b[39m_start_ping_thread()\n\u001b[1;32m    409\u001b[0m     \u001b[39mself\u001b[39m\u001b[39m.\u001b[39m_callback(\u001b[39mself\u001b[39m\u001b[39m.\u001b[39mon_open)\n\u001b[0;32m--> 411\u001b[0m     dispatcher\u001b[39m.\u001b[39;49mread(\u001b[39mself\u001b[39;49m\u001b[39m.\u001b[39;49msock\u001b[39m.\u001b[39;49msock, read, check)\n\u001b[1;32m    412\u001b[0m \u001b[39mexcept\u001b[39;00m (WebSocketConnectionClosedException, \u001b[39mConnectionRefusedError\u001b[39;00m, \u001b[39mKeyboardInterrupt\u001b[39;00m, \u001b[39mSystemExit\u001b[39;00m, \u001b[39mException\u001b[39;00m) \u001b[39mas\u001b[39;00m e:\n\u001b[1;32m    413\u001b[0m     handleDisconnect(e, reconnecting)\n",
      "File \u001b[0;32m~/Downloads/HackSingapore23/myenv/lib/python3.10/site-packages/websocket/_app.py:87\u001b[0m, in \u001b[0;36mSSLDispatcher.read\u001b[0;34m(self, sock, read_callback, check_callback)\u001b[0m\n\u001b[1;32m     85\u001b[0m \u001b[39mdef\u001b[39;00m \u001b[39mread\u001b[39m(\u001b[39mself\u001b[39m, sock, read_callback, check_callback):\n\u001b[1;32m     86\u001b[0m     \u001b[39mwhile\u001b[39;00m \u001b[39mself\u001b[39m\u001b[39m.\u001b[39mapp\u001b[39m.\u001b[39mkeep_running:\n\u001b[0;32m---> 87\u001b[0m         r \u001b[39m=\u001b[39m \u001b[39mself\u001b[39;49m\u001b[39m.\u001b[39;49mselect()\n\u001b[1;32m     88\u001b[0m         \u001b[39mif\u001b[39;00m r:\n\u001b[1;32m     89\u001b[0m             \u001b[39mif\u001b[39;00m \u001b[39mnot\u001b[39;00m read_callback():\n",
      "File \u001b[0;32m~/Downloads/HackSingapore23/myenv/lib/python3.10/site-packages/websocket/_app.py:101\u001b[0m, in \u001b[0;36mSSLDispatcher.select\u001b[0;34m(self)\u001b[0m\n\u001b[1;32m     98\u001b[0m sel \u001b[39m=\u001b[39m selectors\u001b[39m.\u001b[39mDefaultSelector()\n\u001b[1;32m     99\u001b[0m sel\u001b[39m.\u001b[39mregister(sock, selectors\u001b[39m.\u001b[39mEVENT_READ)\n\u001b[0;32m--> 101\u001b[0m r \u001b[39m=\u001b[39m sel\u001b[39m.\u001b[39;49mselect(\u001b[39mself\u001b[39;49m\u001b[39m.\u001b[39;49mping_timeout)\n\u001b[1;32m    102\u001b[0m sel\u001b[39m.\u001b[39mclose()\n\u001b[1;32m    104\u001b[0m \u001b[39mif\u001b[39;00m \u001b[39mlen\u001b[39m(r) \u001b[39m>\u001b[39m \u001b[39m0\u001b[39m:\n",
      "File \u001b[0;32m/opt/homebrew/Cellar/python@3.10/3.10.9/Frameworks/Python.framework/Versions/3.10/lib/python3.10/selectors.py:562\u001b[0m, in \u001b[0;36mKqueueSelector.select\u001b[0;34m(self, timeout)\u001b[0m\n\u001b[1;32m    560\u001b[0m ready \u001b[39m=\u001b[39m []\n\u001b[1;32m    561\u001b[0m \u001b[39mtry\u001b[39;00m:\n\u001b[0;32m--> 562\u001b[0m     kev_list \u001b[39m=\u001b[39m \u001b[39mself\u001b[39;49m\u001b[39m.\u001b[39;49m_selector\u001b[39m.\u001b[39;49mcontrol(\u001b[39mNone\u001b[39;49;00m, max_ev, timeout)\n\u001b[1;32m    563\u001b[0m \u001b[39mexcept\u001b[39;00m \u001b[39mInterruptedError\u001b[39;00m:\n\u001b[1;32m    564\u001b[0m     \u001b[39mreturn\u001b[39;00m ready\n",
      "\u001b[0;31mKeyboardInterrupt\u001b[0m: "
     ]
    }
   ],
   "source": [
    "import websocket\n",
    "import json\n",
    "import ssl\n",
    "\n",
    "class BinanceWebSocket:\n",
    "    def __init__(self, url):\n",
    "        self.url = url\n",
    "        self.ws = None\n",
    "\n",
    "    def on_open(self, ws):\n",
    "        print(\"Opened connection\")\n",
    "        subscribe = {\"method\": \"SUBSCRIBE\", \"params\": [\"btcusdt@kline_5m\"], \"id\": 1}\n",
    "        ws.send(json.dumps(subscribe))\n",
    "\n",
    "    def on_message(self, ws, message):\n",
    "        data = json.loads(message)\n",
    "        print(data)\n",
    "\n",
    "    def on_error(self, ws, error):\n",
    "        print(f\"Error: {error}\")\n",
    "\n",
    "    def on_close(self, ws):\n",
    "        print(\"Connection closed\")\n",
    "\n",
    "    def start(self):\n",
    "        try:\n",
    "            self.ws = websocket.WebSocketApp(\n",
    "                self.url,\n",
    "                on_open=self.on_open,\n",
    "                on_message=self.on_message,\n",
    "                on_error=self.on_error,\n",
    "                on_close=self.on_close,\n",
    "            )\n",
    "            self.ws.run_forever(sslopt={\"cert_reqs\": ssl.CERT_NONE})\n",
    "        except Exception as e:\n",
    "            print(f\"An exception occurred: {e}\")\n",
    "        finally:\n",
    "            if self.ws is not None:\n",
    "                self.ws.close()\n",
    "\n",
    "if __name__ == \"__main__\":\n",
    "    url = \"wss://stream.binance.com:9443/ws\"\n",
    "    binance_ws = BinanceWebSocket(url)\n",
    "    binance_ws.start()\n"
   ]
  },
  {
   "cell_type": "code",
   "execution_count": null,
   "metadata": {},
   "outputs": [],
   "source": []
  }
 ],
 "metadata": {
  "kernelspec": {
   "display_name": "myenv",
   "language": "python",
   "name": "python3"
  },
  "language_info": {
   "codemirror_mode": {
    "name": "ipython",
    "version": 3
   },
   "file_extension": ".py",
   "mimetype": "text/x-python",
   "name": "python",
   "nbconvert_exporter": "python",
   "pygments_lexer": "ipython3",
   "version": "3.10.9"
  },
  "orig_nbformat": 4
 },
 "nbformat": 4,
 "nbformat_minor": 2
}
