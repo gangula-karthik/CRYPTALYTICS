{
 "cells": [
  {
   "cell_type": "code",
   "execution_count": 4,
   "metadata": {},
   "outputs": [
    {
     "data": {
      "text/plain": [
       "True"
      ]
     },
     "execution_count": 4,
     "metadata": {},
     "output_type": "execute_result"
    }
   ],
   "source": [
    "from dotenv import load_dotenv, find_dotenv \n",
    "load_dotenv(find_dotenv())"
   ]
  },
  {
   "cell_type": "code",
   "execution_count": 4,
   "metadata": {},
   "outputs": [
    {
     "name": "stdout",
     "output_type": "stream",
     "text": [
      "Collecting promptlayer\n",
      "  Downloading promptlayer-0.1.80.tar.gz (13 kB)\n",
      "  Installing build dependencies ... \u001b[?25ldone\n",
      "\u001b[?25h  Getting requirements to build wheel ... \u001b[?25ldone\n",
      "\u001b[?25h  Preparing metadata (pyproject.toml) ... \u001b[?25ldone\n",
      "\u001b[?25hRequirement already satisfied: requests in ./myenv/lib/python3.10/site-packages (from promptlayer) (2.28.2)\n",
      "Requirement already satisfied: openai in ./myenv/lib/python3.10/site-packages (from promptlayer) (0.27.6)\n",
      "Requirement already satisfied: langchain in ./myenv/lib/python3.10/site-packages (from promptlayer) (0.0.157)\n",
      "Requirement already satisfied: PyYAML>=5.4.1 in ./myenv/lib/python3.10/site-packages (from langchain->promptlayer) (6.0)\n",
      "Requirement already satisfied: SQLAlchemy<3,>=1.3 in ./myenv/lib/python3.10/site-packages (from langchain->promptlayer) (2.0.12)\n",
      "Requirement already satisfied: aiohttp<4.0.0,>=3.8.3 in ./myenv/lib/python3.10/site-packages (from langchain->promptlayer) (3.8.4)\n",
      "Requirement already satisfied: async-timeout<5.0.0,>=4.0.0 in ./myenv/lib/python3.10/site-packages (from langchain->promptlayer) (4.0.2)\n",
      "Requirement already satisfied: dataclasses-json<0.6.0,>=0.5.7 in ./myenv/lib/python3.10/site-packages (from langchain->promptlayer) (0.5.7)\n",
      "Requirement already satisfied: numexpr<3.0.0,>=2.8.4 in ./myenv/lib/python3.10/site-packages (from langchain->promptlayer) (2.8.4)\n",
      "Requirement already satisfied: numpy<2,>=1 in ./myenv/lib/python3.10/site-packages (from langchain->promptlayer) (1.24.2)\n",
      "Requirement already satisfied: openapi-schema-pydantic<2.0,>=1.2 in ./myenv/lib/python3.10/site-packages (from langchain->promptlayer) (1.2.4)\n",
      "Requirement already satisfied: pydantic<2,>=1 in ./myenv/lib/python3.10/site-packages (from langchain->promptlayer) (1.10.7)\n",
      "Requirement already satisfied: tenacity<9.0.0,>=8.1.0 in ./myenv/lib/python3.10/site-packages (from langchain->promptlayer) (8.2.2)\n",
      "Requirement already satisfied: tqdm>=4.48.0 in ./myenv/lib/python3.10/site-packages (from langchain->promptlayer) (4.65.0)\n",
      "Requirement already satisfied: charset-normalizer<4,>=2 in ./myenv/lib/python3.10/site-packages (from requests->promptlayer) (3.1.0)\n",
      "Requirement already satisfied: idna<4,>=2.5 in ./myenv/lib/python3.10/site-packages (from requests->promptlayer) (3.4)\n",
      "Requirement already satisfied: urllib3<1.27,>=1.21.1 in ./myenv/lib/python3.10/site-packages (from requests->promptlayer) (1.26.15)\n",
      "Requirement already satisfied: certifi>=2017.4.17 in ./myenv/lib/python3.10/site-packages (from requests->promptlayer) (2022.12.7)\n",
      "Requirement already satisfied: attrs>=17.3.0 in ./myenv/lib/python3.10/site-packages (from aiohttp<4.0.0,>=3.8.3->langchain->promptlayer) (23.1.0)\n",
      "Requirement already satisfied: multidict<7.0,>=4.5 in ./myenv/lib/python3.10/site-packages (from aiohttp<4.0.0,>=3.8.3->langchain->promptlayer) (6.0.4)\n",
      "Requirement already satisfied: yarl<2.0,>=1.0 in ./myenv/lib/python3.10/site-packages (from aiohttp<4.0.0,>=3.8.3->langchain->promptlayer) (1.9.2)\n",
      "Requirement already satisfied: frozenlist>=1.1.1 in ./myenv/lib/python3.10/site-packages (from aiohttp<4.0.0,>=3.8.3->langchain->promptlayer) (1.3.3)\n",
      "Requirement already satisfied: aiosignal>=1.1.2 in ./myenv/lib/python3.10/site-packages (from aiohttp<4.0.0,>=3.8.3->langchain->promptlayer) (1.3.1)\n",
      "Requirement already satisfied: marshmallow<4.0.0,>=3.3.0 in ./myenv/lib/python3.10/site-packages (from dataclasses-json<0.6.0,>=0.5.7->langchain->promptlayer) (3.19.0)\n",
      "Requirement already satisfied: marshmallow-enum<2.0.0,>=1.5.1 in ./myenv/lib/python3.10/site-packages (from dataclasses-json<0.6.0,>=0.5.7->langchain->promptlayer) (1.5.1)\n",
      "Requirement already satisfied: typing-inspect>=0.4.0 in ./myenv/lib/python3.10/site-packages (from dataclasses-json<0.6.0,>=0.5.7->langchain->promptlayer) (0.8.0)\n",
      "Requirement already satisfied: typing-extensions>=4.2.0 in ./myenv/lib/python3.10/site-packages (from pydantic<2,>=1->langchain->promptlayer) (4.5.0)\n",
      "Requirement already satisfied: packaging>=17.0 in ./myenv/lib/python3.10/site-packages (from marshmallow<4.0.0,>=3.3.0->dataclasses-json<0.6.0,>=0.5.7->langchain->promptlayer) (23.1)\n",
      "Requirement already satisfied: mypy-extensions>=0.3.0 in ./myenv/lib/python3.10/site-packages (from typing-inspect>=0.4.0->dataclasses-json<0.6.0,>=0.5.7->langchain->promptlayer) (1.0.0)\n",
      "Building wheels for collected packages: promptlayer\n",
      "  Building wheel for promptlayer (pyproject.toml) ... \u001b[?25ldone\n",
      "\u001b[?25h  Created wheel for promptlayer: filename=promptlayer-0.1.80-py3-none-any.whl size=13203 sha256=1b1cd8a1bba21fc57aa3519e8861e2b9d8390046b79b923c9cb98ca3f3f7c28b\n",
      "  Stored in directory: /Users/daaa/Library/Caches/pip/wheels/a4/aa/bc/96e73a03ffa24591c878e602104e153c190ded63d42e288ad0\n",
      "Successfully built promptlayer\n",
      "Installing collected packages: promptlayer\n",
      "Successfully installed promptlayer-0.1.80\n"
     ]
    }
   ],
   "source": [
    "!pip install promptlayer\n",
    "import promptlayer\n",
    "promptlayer.api_key = \"pl_a52bdb6bd8b3af31579e44d63894e96c\""
   ]
  },
  {
   "cell_type": "code",
   "execution_count": 5,
   "metadata": {},
   "outputs": [],
   "source": [
    "import os\n",
    "from langchain.chat_models import PromptLayerChatOpenAI\n",
    "from langchain.schema import HumanMessage"
   ]
  },
  {
   "cell_type": "code",
   "execution_count": null,
   "metadata": {},
   "outputs": [],
   "source": [
    "os.environ[\"PROMPTLAYER_API_KEY\"] = \"pl_a52bdb6bd8b3af31579e44d63894e96c\""
   ]
  }
 ],
 "metadata": {
  "kernelspec": {
   "display_name": "myenv",
   "language": "python",
   "name": "python3"
  },
  "language_info": {
   "codemirror_mode": {
    "name": "ipython",
    "version": 3
   },
   "file_extension": ".py",
   "mimetype": "text/x-python",
   "name": "python",
   "nbconvert_exporter": "python",
   "pygments_lexer": "ipython3",
   "version": "3.10.9"
  },
  "orig_nbformat": 4
 },
 "nbformat": 4,
 "nbformat_minor": 2
}
